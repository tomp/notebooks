{
 "cells": [
  {
   "cell_type": "code",
   "execution_count": 1,
   "metadata": {
    "collapsed": true
   },
   "outputs": [],
   "source": [
    "bike_speed = 10\n",
    "fly_speed = 15\n",
    "start_distance = 20"
   ]
  },
  {
   "cell_type": "code",
   "execution_count": 2,
   "metadata": {
    "collapsed": true
   },
   "outputs": [],
   "source": [
    "def bike1(t):\n",
    "    \"\"\"The position of bike 1 at time t.\"\"\"\n",
    "    return t * bike_speed\n",
    "\n",
    "def bike2(t):\n",
    "    return start_distance - t * bike_speed"
   ]
  },
  {
   "cell_type": "code",
   "execution_count": 3,
   "metadata": {},
   "outputs": [
    {
     "data": {
      "text/plain": [
       "(5.0, 15.0)"
      ]
     },
     "execution_count": 3,
     "metadata": {},
     "output_type": "execute_result"
    }
   ],
   "source": [
    "bike1(.5), bike2(.5)"
   ]
  },
  {
   "cell_type": "code",
   "execution_count": 4,
   "metadata": {
    "collapsed": true
   },
   "outputs": [],
   "source": [
    "class Mover():\n",
    "    def __init__(self, pos, velocity, at=0):\n",
    "        self.init_pos = pos\n",
    "        self.velocity = velocity\n",
    "        self.init_time = at\n",
    "        \n",
    "    def pos(self, t):\n",
    "        return self.init_pos + self.velocity * (t - self.init_time)\n",
    "    \n",
    "    def collision_time(self, mover2):\n",
    "        if abs(self.velocity - mover2.velocity) == 0.0:\n",
    "            raise Exception(\"Movers will never meet!\")\n",
    "        p1 = self.init_pos - self.init_time * self.velocity\n",
    "        p2 = mover2.init_pos - mover2.init_time * mover2.velocity\n",
    "        return (p2 - p1) / (self.velocity - mover2.velocity)"
   ]
  },
  {
   "cell_type": "code",
   "execution_count": 5,
   "metadata": {},
   "outputs": [],
   "source": [
    "bike1 = Mover(pos=0, velocity=bike_speed)\n",
    "bike2 = Mover(pos=start_distance, velocity=-bike_speed)\n",
    "fly1 = Mover(pos=0, velocity=fly_speed)"
   ]
  },
  {
   "cell_type": "code",
   "execution_count": 6,
   "metadata": {},
   "outputs": [
    {
     "data": {
      "text/plain": [
       "(0.8, 8.0, 12.0, 12.0)"
      ]
     },
     "execution_count": 6,
     "metadata": {},
     "output_type": "execute_result"
    }
   ],
   "source": [
    "t1 = fly1.collision_time(bike2)\n",
    "t1, bike1.pos(t1), fly1.pos(t1), bike2.pos(t1)"
   ]
  },
  {
   "cell_type": "code",
   "execution_count": 8,
   "metadata": {},
   "outputs": [],
   "source": [
    "fly2 = Mover(pos=fly1.pos(t1), velocity=-fly1.velocity, at=t1)\n",
    "t2 = fly2.collision_time(bike1)\n",
    "t2, bike1.pos(t2), fly2.pos(t2), bike2.pos(t2)"
   ]
  },
  {
   "cell_type": "code",
   "execution_count": null,
   "metadata": {
    "collapsed": true
   },
   "outputs": [],
   "source": []
  }
 ],
 "metadata": {
  "kernelspec": {
   "display_name": "Python 3",
   "language": "python",
   "name": "python3"
  },
  "language_info": {
   "codemirror_mode": {
    "name": "ipython",
    "version": 3
   },
   "file_extension": ".py",
   "mimetype": "text/x-python",
   "name": "python",
   "nbconvert_exporter": "python",
   "pygments_lexer": "ipython3",
   "version": "3.6.2"
  }
 },
 "nbformat": 4,
 "nbformat_minor": 2
}
